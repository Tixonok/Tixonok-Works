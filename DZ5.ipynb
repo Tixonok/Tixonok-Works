{
  "cells": [
    {
      "cell_type": "code",
      "execution_count": 1,
      "metadata": {
        "id": "SgqPE5DfJkfN"
      },
      "outputs": [],
      "source": [
        "import pandas as pd\n",
        "import numpy as np\n",
        "from matplotlib import pyplot as plt\n",
        "from scipy.stats import f\n",
        "import statsmodels.api as sm\n",
        "from statsmodels.tsa.stattools import grangercausalitytests"
      ]
    },
    {
      "cell_type": "code",
      "execution_count": 2,
      "metadata": {
        "id": "IQ5TM0hjJkfO"
      },
      "outputs": [],
      "source": [
        "tweet_data = pd.read_csv(\"/content/vaccination_all_tweets.csv\")\n",
        "vaccination_data = pd.read_csv(\"/content/vaccinations.csv\")"
      ]
    },
    {
      "cell_type": "code",
      "source": [],
      "metadata": {
        "id": "SAJBhlNLXEOL"
      },
      "execution_count": null,
      "outputs": []
    },
    {
      "cell_type": "code",
      "execution_count": 3,
      "metadata": {
        "id": "jz0mNaJ2JkfP"
      },
      "outputs": [],
      "source": [
        "# Группировка данных по дате\n",
        "grouped_data = vaccination_data.groupby('date')\n",
        "\n",
        "# Агрегация: подсчет уникальных местоположений и суммирование ежедневной вакцинации\n",
        "vac_data = grouped_data.agg({'location': 'count', 'daily_vaccinations': 'sum'}).reset_index()\n",
        "\n",
        "# Переименование столбцов для ясности\n",
        "vac_data = vac_data.rename(columns={'location': 'counties_count'})"
      ]
    },
    {
      "cell_type": "code",
      "execution_count": 4,
      "metadata": {
        "id": "3kjmLQxQJkfP"
      },
      "outputs": [],
      "source": [
        "tweet_data['date'] = pd.to_datetime(tweet_data['date'], format='%Y-%m-%d %H:%M:%S')"
      ]
    },
    {
      "cell_type": "code",
      "execution_count": 5,
      "metadata": {
        "id": "gey2e93EJkfP"
      },
      "outputs": [],
      "source": [
        "# Группировка данных по дате\n",
        "tweet_data = (tweet_data.groupby(tweet_data['date'].dt.date))\n",
        "\n",
        "# Агрегация: подсчет суммирование ежедневной ретвитов\n",
        "tweet_data = tweet_data.agg({'retweets': 'sum'})\n",
        "\n",
        "# Переименование столбцов\n",
        "tweet_data = tweet_data.reset_index()"
      ]
    },
    {
      "cell_type": "code",
      "execution_count": 6,
      "metadata": {
        "id": "ugjhl0ldJkfP"
      },
      "outputs": [],
      "source": [
        "df = pd.DataFrame(vac_data)\n",
        "df[\"tweets\"] = tweet_data[\"retweets\"]"
      ]
    },
    {
      "cell_type": "code",
      "source": [
        "plt.plot(vac_data.date ,vac_data[\"daily_vaccinations\"])"
      ],
      "metadata": {
        "colab": {
          "base_uri": "https://localhost:8080/",
          "height": 462
        },
        "id": "1R-1FeBPXlF3",
        "outputId": "9ca58133-fc01-4613-a134-083e2289eef3"
      },
      "execution_count": 14,
      "outputs": [
        {
          "output_type": "execute_result",
          "data": {
            "text/plain": [
              "[<matplotlib.lines.Line2D at 0x7a00ac2235b0>]"
            ]
          },
          "metadata": {},
          "execution_count": 14
        },
        {
          "output_type": "display_data",
          "data": {
            "text/plain": [
              "<Figure size 640x480 with 1 Axes>"
            ],
            "image/png": "[encoded data removed]"
          },
          "metadata": {}
        }
      ]
    },
    {
      "cell_type": "code",
      "execution_count": 7,
      "metadata": {
        "id": "9GQtdPQCJkfP"
      },
      "outputs": [],
      "source": [
        "def autoregression(data_series, order, forecast_amount):\n",
        "    coefficients = np.ones(order)\n",
        "    lagged_matrix = np.array([data_series[i:order + i] for i in range(len(data_series) - order - 1)])\n",
        "    coefficients = np.linalg.lstsq(lagged_matrix, data_series[order + 1:len(data_series)], rcond=None)[0]\n",
        "\n",
        "    data_list = data_series.values.tolist()\n",
        "\n",
        "    for _ in range(forecast_amount):\n",
        "        prediction = np.dot(coefficients, data_list[-order:])\n",
        "        data_list.append(prediction)\n",
        "\n",
        "    return np.array(data_list)\n",
        "\n",
        "def combined_autoregression(X_series, Y_series, order_x, order_y, forecast_amount):\n",
        "    combined_order = order_x + order_y\n",
        "    combined_coefficients = np.ones(combined_order)\n",
        "\n",
        "    X_lagged_matrix = np.array([X_series[i:order_x + i] for i in range(len(X_series) - order_x - 1)])\n",
        "    Y_lagged_matrix = np.array([Y_series[i:order_y + i] for i in range(len(Y_series) - order_y - 1)])\n",
        "\n",
        "    combined_matrix = np.column_stack((X_lagged_matrix, Y_lagged_matrix))\n",
        "    combined_coefficients = np.linalg.lstsq(combined_matrix, X_series[order_x + 1:len(X_series)], rcond=None)[0]\n",
        "\n",
        "    X_list = X_series.values.tolist()\n",
        "    Y_list = Y_series.values.tolist()\n",
        "\n",
        "    for _ in range(forecast_amount):\n",
        "        combined_pred = np.dot(combined_coefficients, X_list[-order_x:] + Y_list[-order_y:])\n",
        "        X_list.append(combined_pred)\n",
        "\n",
        "    return np.array(X_list)\n"
      ]
    },
    {
      "cell_type": "code",
      "execution_count": 8,
      "metadata": {
        "id": "1h6omv4wJkfQ"
      },
      "outputs": [],
      "source": [
        "daily_vac = df[\"daily_vaccinations\"]\n",
        "daily_tweet = df[\"tweets\"]\n",
        "\n",
        "\n",
        "predict_range = 5\n",
        "lag = len(daily_vac) - predict_range - 2\n",
        "\n",
        "pred = autoregression(daily_vac[:int(len(daily_vac)) - predict_range], lag ,predict_range)\n"
      ]
    },
    {
      "cell_type": "code",
      "execution_count": 9,
      "metadata": {
        "id": "bVedsWYtJkfQ"
      },
      "outputs": [],
      "source": [
        "def granger_causality_test(y_with_lag_residuals, y_without_lag_residuals, lag_order, regression_coefficients, n):\n",
        "\n",
        "    mse_with_lag = np.mean(y_with_lag_residuals ** 2)\n",
        "    mse_without_lag = np.mean(y_without_lag_residuals ** 2)\n",
        "\n",
        "    f_statistic = (abs(mse_without_lag - mse_with_lag) / lag_order) / (mse_with_lag / abs(n - lag_order - regression_coefficients))\n",
        "    p_value = f.sf(f_statistic, lag_order, n - lag_order - regression_coefficients)\n",
        "\n",
        "    return f_statistic, p_value\n"
      ]
    },
    {
      "cell_type": "code",
      "execution_count": 10,
      "metadata": {
        "id": "chdgO0p5JkfQ"
      },
      "outputs": [],
      "source": [
        "lag_vac = len(daily_vac) - predict_range - 2\n",
        "predicted_lag_vac = combined_autoregression(daily_vac[:int(len(daily_vac)) - predict_range], daily_tweet[:int(len(daily_vac)) - predict_range], lag_vac, lag_vac, predict_range)"
      ]
    },
    {
      "cell_type": "code",
      "execution_count": 11,
      "metadata": {
        "colab": {
          "base_uri": "https://localhost:8080/"
        },
        "id": "bpW-c2fLJkfQ",
        "outputId": "1817678e-0f41-4be3-ce56-50012180fe17"
      },
      "outputs": [
        {
          "output_type": "stream",
          "name": "stdout",
          "text": [
            "F-статистика: 6.223180866872984e-13, P-значение: 0.9999999999999999\n",
            "\n",
            "Так как 0.9999999999999999 > 0.05, то мы не можем отвергнуть нулевую гипотезу\n"
          ]
        }
      ],
      "source": [
        "f_statistic, p_value = granger_causality_test(pred, predicted_lag_vac, lag_vac, 2, len(pred)-1)\n",
        "critical = f.ppf(0.95, 2, len(pred)-1)\n",
        "\n",
        "print(f\"F-статистика: {f_statistic}, P-значение: {p_value}\")\n",
        "print(f'\\nТак как {p_value} > 0.05, то мы не можем отвергнуть нулевую гипотезу')\n",
        "\n"
      ]
    },
    {
      "cell_type": "code",
      "execution_count": 12,
      "metadata": {
        "id": "oxlOruI3JkfR"
      },
      "outputs": [],
      "source": [
        "daily_vac = df[\"daily_vaccinations\"]\n",
        "\n",
        "predict_range = 5\n",
        "lag_tweet = len(daily_vac) - predict_range - 2\n",
        "\n",
        "daily_tweet = df[\"tweets\"]\n",
        "predicted_lag_tweet = combined_autoregression(daily_tweet[:int(len(daily_vac)) - predict_range], daily_vac[:int(len(daily_vac)) - predict_range], lag_tweet, lag_tweet, predict_range)"
      ]
    },
    {
      "cell_type": "code",
      "execution_count": 13,
      "metadata": {
        "colab": {
          "base_uri": "https://localhost:8080/"
        },
        "id": "3pUNHjiXJkfR",
        "outputId": "0af42e11-fa15-4f91-9ed3-38ce9991e3fb"
      },
      "outputs": [
        {
          "output_type": "stream",
          "name": "stdout",
          "text": [
            "F-статистика: 0.015209125460696696, P-значение: 0.9999999999999999\n",
            "\n",
            "Так как 0.9999999999999999 > 0.05, то мы не можем отвергнуть нулевую гипотезу\n"
          ]
        }
      ],
      "source": [
        "f_statistic, p_value = granger_causality_test(pred, predicted_lag_tweet, lag_tweet, 2, len(pred)-1)\n",
        "critical = f.ppf(0.95, 2, len(pred)-1)  # Степени свободы для регрессии и остатков\n",
        "\n",
        "print(f\"F-статистика: {f_statistic}, P-значение: {p_value}\")\n",
        "print(f'\\nТак как {p_value} > 0.05, то мы не можем отвергнуть нулевую гипотезу')\n",
        "\n"
      ]
    },
    {
      "cell_type": "code",
      "source": [
        "#Подведя итог, можно сказать,что количество вакцинаций от ковида не связано с количеством твитов о вакцинации"
      ],
      "metadata": {
        "id": "YJ-fdmvAWpNO"
      },
      "execution_count": null,
      "outputs": []
    }
  ],
  "metadata": {
    "kernelspec": {
      "display_name": "notebook",
      "language": "python",
      "name": "python3"
    },
    "language_info": {
      "codemirror_mode": {
        "name": "ipython",
        "version": 3
      },
      "file_extension": ".py",
      "mimetype": "text/x-python",
      "name": "python",
      "nbconvert_exporter": "python",
      "pygments_lexer": "ipython3",
      "version": "3.8.18"
    },
    "colab": {
      "provenance": []
    }
  },
  "nbformat": 4,
  "nbformat_minor": 0
}